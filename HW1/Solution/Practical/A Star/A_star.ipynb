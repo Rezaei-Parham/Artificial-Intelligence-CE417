{
  "cells": [
    {
      "cell_type": "markdown",
      "metadata": {
        "id": "w-qKj6k8Hum_"
      },
      "source": [
        "<img src='http://www-scf.usc.edu/~ghasemig/images/sharif.png' alt=\"SUT logo\" width=300 height=300 align=left class=\"saturate\" >\n",
        "\n",
        "<br>\n",
        "<font>\n",
        "<div dir=ltr align=center>\n",
        "<font color=0F5298 size=7>\n",
        "    Artificial Intelligence <br>\n",
        "<font color=2565AE size=5>\n",
        "    Computer Engineering Department <br>\n",
        "    Spring 2023<br>\n",
        "<font color=3C99D size=5>\n",
        "    Practical Assignment 1 - Search <br>\n",
        "<font color=696880 size=4>\n",
        "    Mohammad Mahdi Abootorabi and Roozbeh Pirayadi \n",
        "\n",
        "____"
      ]
    },
    {
      "cell_type": "markdown",
      "metadata": {
        "id": "E2UyBq_8HunB"
      },
      "source": [
        "# Personal Data"
      ]
    },
    {
      "cell_type": "code",
      "execution_count": 2,
      "metadata": {
        "id": "DuPJi6DyHunB"
      },
      "outputs": [],
      "source": [
        "# Set your student number\n",
        "student_number = '400108547'\n",
        "Name = 'Parham'\n",
        "Last_Name = 'Rezaei'"
      ]
    },
    {
      "cell_type": "markdown",
      "metadata": {
        "id": "G-fwh-x0HunC"
      },
      "source": [
        "# Rules\n",
        "- Make sure that all of your cells can be run perfectly. "
      ]
    },
    {
      "cell_type": "markdown",
      "metadata": {
        "id": "jOlxyG3WHunC"
      },
      "source": [
        "# Q1: Elevator Ride (100 Points)"
      ]
    },
    {
      "cell_type": "markdown",
      "metadata": {
        "id": "TM4fdjdvHunC"
      },
      "source": [
        "<font size=4>\n",
        "Author: Roozbeh Pirayadi\n",
        "\t\t\t<br/>\n",
        "                <font color=red>\n",
        "Please run all the cells.\n",
        "     </font>\n",
        "</font>\n",
        "                <br/>\n",
        "    </div>"
      ]
    },
    {
      "cell_type": "markdown",
      "metadata": {
        "id": "y28VYbPUHunD"
      },
      "source": [
        "## Problem Definition"
      ]
    },
    {
      "cell_type": "markdown",
      "metadata": {
        "id": "LCIzn-2kHunD"
      },
      "source": [
        "Computer Engineering department has two floors. There are N students and M professors on the first floor, all of whom, want to go from the first floor to the second floor. The only way to move from the first floor to the second one is by using an elevator. \n",
        "\n",
        "At most two people can fit in the elevator at the same time. Also, the elevator cannot operate by itself. This means that when the elevator moves up or down, there is either one person in the elevator or there are two people in it. \n",
        "\n",
        "But there is a problem. \n",
        "If in any of the mentioned floors, there are more students than proffesors, students will start asking questions from the professors. Professors are not willing to answer any question. So none of them wants to be in a floor where the number of students is more than the number of professors. Note that when there is no professor in the floor the number of students is not important. But when there is, the number of students must be less than or equal to the number of professors.\n",
        "\n",
        "Our goal is to find a schedule for the people to get on the elevator so that this constraint is satisfied.\n",
        "\n",
        "Below you can see a solution for 4 students and 4 professors"
      ]
    },
    {
      "cell_type": "markdown",
      "metadata": {
        "id": "w79aV5CAHunD"
      },
      "source": [
        "![SegmentLocal](images/result_of_5_3.gif \"segment\")"
      ]
    },
    {
      "cell_type": "markdown",
      "metadata": {
        "id": "3TB3tkNVHunD"
      },
      "source": [
        "Every state in the discussed problem could be represented as a 5-tuple (s1, p1, s2, p2, e). Where s1 is the number of students in the first floor, p1 is the number of professors in the first floor, s2 is the number of students in the second floor and p2 is the number of professors in the second floor. Finally e shows which floor the elevator is.\n",
        "\n",
        "Our goal is to find a feasible solution. we will do this by starting from the initial state and searching for the final state. Note that there may be more than one way to the final state so the solution is not unique."
      ]
    },
    {
      "cell_type": "markdown",
      "metadata": {
        "id": "8v0bRgU7HunD"
      },
      "source": [
        "## Solution"
      ]
    },
    {
      "cell_type": "markdown",
      "metadata": {
        "id": "lk4DGAe5HunD"
      },
      "source": [
        "### Graph"
      ]
    },
    {
      "cell_type": "markdown",
      "metadata": {
        "id": "mXN5KG3THunE"
      },
      "source": [
        "Below is an implementation of a directed weighted graph. You don't need to change anything in this cell. Just take a look at the code, so you could use it."
      ]
    },
    {
      "cell_type": "code",
      "execution_count": 3,
      "metadata": {
        "id": "CykQZYOtHunE"
      },
      "outputs": [],
      "source": [
        "###########################################\n",
        "###### no need to change any thing ########\n",
        "###########################################\n",
        "class graph:\n",
        "    def __init__(self):\n",
        "        self.graph = {}\n",
        "        self.visited = {}\n",
        "\n",
        "    # add a new edge between v1 and v2 with weight w or update the weight if edge already exists\n",
        "    def append(self, v1, v2, w):\n",
        "        if v1 not in self.graph.keys():\n",
        "            self.graph[v1] = {}\n",
        "            self.visited[v1] = 0\n",
        "        if v2 not in self.graph.keys():\n",
        "            self.graph[v2] = {}\n",
        "            self.visited[v2] = 0\n",
        "        self.graph[v1][v2] = w\n",
        "\n",
        "    # return adjacency list (used for debugging)\n",
        "    def reveal(self):\n",
        "        return self.graph\n",
        "\n",
        "    # return all vertices in the graph\n",
        "    def vertex(self):\n",
        "        return list(self.graph.keys())\n",
        "\n",
        "    # return all neighbours of a vertix as a list\n",
        "\n",
        "    def neighbour(self, v):\n",
        "        return list(self.graph[v].keys())\n",
        "\n",
        "    # return the weight of a edge\n",
        "\n",
        "    def weight(self, v1, v2):\n",
        "        return (self.graph[v1][v2])\n",
        "\n",
        "    # return the number of vertices\n",
        "\n",
        "    def order(self):\n",
        "        return len(self.graph)\n",
        "\n",
        "    # visit a particular vertex\n",
        "    def visit(self, v):\n",
        "        self.visited[v] = 1\n",
        "\n",
        "    # return the visit status of a particular vertex\n",
        "    def is_visited(self, vertexid):\n",
        "        return self.visited[vertexid]\n",
        "\n",
        "    # return which vertices have been visited\n",
        "    def get_visited(self):\n",
        "        return self.visited\n",
        "\n",
        "    # return degree of a particular vertex\n",
        "    def degree(self, vertexid):\n",
        "        return len(self.graph[vertexid])\n",
        "\n",
        "    # unvisit the whole graph        if whole is True\n",
        "    # unvisit a particular vertex    if whole is False\n",
        "    def clear(self, v=None, whole=False):\n",
        "        if whole:\n",
        "            self.visited = dict(zip(self.graph.keys(), [0 for i in range(len(self.graph))]))\n",
        "        elif v is not None:\n",
        "            self.visited[v] = 0\n",
        "        else:\n",
        "            assert False, \"arguments must satisfy whole=True or v not None\"\n"
      ]
    },
    {
      "cell_type": "markdown",
      "metadata": {
        "id": "7wUbszqfHunE"
      },
      "source": [
        "#### Building the graph of states"
      ]
    },
    {
      "cell_type": "markdown",
      "metadata": {
        "id": "bhijWPFvHunE"
      },
      "source": [
        "Let's start by a little example and consider a situation where we there are 3 students and 3 professors. Note that your code should be written for the general case using the variables N and M."
      ]
    },
    {
      "cell_type": "code",
      "execution_count": 4,
      "metadata": {
        "id": "TTOeVJuSHunE"
      },
      "outputs": [],
      "source": [
        "# Number of Students\n",
        "N = 3\n",
        "# Number of Professors\n",
        "M = 3"
      ]
    },
    {
      "cell_type": "markdown",
      "metadata": {
        "id": "kfVhrI-OHunE"
      },
      "source": [
        "First let's implement a function that receives a 4-tuple (s1, p1, s2, p2) as an input and checks whether this state is a valid one or not. Note that e (position of the elevator) cannot affect the validity of a state so it is not provided as an input."
      ]
    },
    {
      "cell_type": "code",
      "execution_count": 5,
      "metadata": {
        "id": "zNcN7iGyHunF"
      },
      "outputs": [],
      "source": [
        "# validate a state (s1, p1, s2, p2)\n",
        "# if the constraints are satisfied return true, else return false\n",
        "def validate(input):\n",
        "\n",
        "    s1, p1, s2, p2,e = input\n",
        "\n",
        "    ################################################\n",
        "    ###### complete this function (10 Points) ######\n",
        "    if s1<0 or p1<0 or s2 <0 or p2<0:\n",
        "       return False\n",
        "    if (p1 > 0 and s1 > p1) or (p2 > 0 and s2 > p2):\n",
        "      return False\n",
        "    return True\n",
        "    ################################################\n"
      ]
    },
    {
      "cell_type": "markdown",
      "metadata": {
        "id": "bBfJr1P6HunF"
      },
      "source": [
        "The below function must build the whole graph. Each scenario is a vertex and v1 is connected to v2 with weight 1 if scenario in v1 could be changed to the scenario in v2 by only one traversal of the elevator.\n",
        "\n",
        "Hint: you can iterate over different values of s1, p1 and e and determine s2 and p2 using N and M. Then you can check all different actions and use the validate function to determine whether taking this action is possible or not."
      ]
    },
    {
      "cell_type": "code",
      "execution_count": 6,
      "metadata": {
        "id": "fXMKNFY9MFPq"
      },
      "outputs": [],
      "source": [
        "def get_neighbors(input):\n",
        "    p1,s1,p2,s2,e = input\n",
        "    neighbs = []\n",
        "    if e==2:\n",
        "        prb = [(p1+2,s1,p2-2,s2,1),(p1,s1+2,p2,s2-2,1),(p1+1,s1+1,p2-1,s2-1,1),(p1+1,s1,p2-1,s2,1),(p1,s1+1,p2,s2-1,1)]\n",
        "        for i in prb:\n",
        "            if validate(i):\n",
        "                neighbs.append(i)\n",
        "    elif e==1:\n",
        "        prb = [(p1-2,s1,p2+2,s2,2),(p1,s1-2,p2,s2+2,2),(p1-1,s1-1,p2+1,s2+1,2),(p1-1,s1,p2+1,s2,2),(p1,s1-1,p2,s2+1,2)]\n",
        "        for i in prb:\n",
        "            if validate(i):\n",
        "                neighbs.append(i)\n",
        "\n",
        "    return neighbs\n"
      ]
    },
    {
      "cell_type": "code",
      "execution_count": 7,
      "metadata": {
        "id": "hlnnCWXCHunF"
      },
      "outputs": [],
      "source": [
        "# builds the complete graph\n",
        "def build_graph(N, M):\n",
        "    G = graph()\n",
        "\n",
        "    #############################################\n",
        "    ###  complete this function (25 Points)   ###\n",
        "    #############################################\n",
        "    for it_s_d in range(0,N+1):\n",
        "      for it_p_d in range(0,M+1):\n",
        "        for e in range(1,3):\n",
        "          c = (it_s_d,it_p_d,N-it_s_d,M-it_p_d,e)\n",
        "          if(validate(c)):\n",
        "             x = get_neighbors(c)\n",
        "             for i in x:\n",
        "                G.append(c,i,1)\n",
        "            \n",
        "    \n",
        "    #############################################\n",
        "\n",
        "    return G\n"
      ]
    },
    {
      "cell_type": "code",
      "execution_count": 8,
      "metadata": {
        "id": "0pJI9kmsHunF"
      },
      "outputs": [],
      "source": [
        "G = build_graph(N, M)"
      ]
    },
    {
      "cell_type": "markdown",
      "metadata": {
        "id": "yQ9sE1riHunF"
      },
      "source": [
        "### Depth First Search"
      ]
    },
    {
      "cell_type": "markdown",
      "metadata": {
        "id": "xrY2S7q8HunF"
      },
      "source": [
        "The first algorithm we use to solve the problem is Depth First Search. The function below  executes DFS on G from start until it reaches end. Note that if end is not reachable from start this function returns false and otherwise it returns the found path as a list of states. DFS code is completely and it is used as a baseline to evaulute your A* implementation in the next part."
      ]
    },
    {
      "cell_type": "code",
      "execution_count": 9,
      "metadata": {
        "id": "6GXpiGBoHunF"
      },
      "outputs": [],
      "source": [
        "###########################################\n",
        "###### no need to change any thing ########\n",
        "###########################################\n",
        "# Depth First Search to find the path from start to end\n",
        "def run_dfs(G, start, end):\n",
        "    queue = []\n",
        "    queue.append(start)\n",
        "\n",
        "    # pred keeps track of how we got to the current vertex\n",
        "    pred = {}\n",
        "\n",
        "    while queue:\n",
        "        current = queue.pop(0)\n",
        "        G.visit(current)\n",
        "\n",
        "        smallq = []\n",
        "\n",
        "        # find children and add to the priority\n",
        "        for newpos in G.neighbour(current):\n",
        "            if not G.is_visited(newpos):\n",
        "                # if the child vertex has already been in queue\n",
        "                # move it to the frontline of queue\n",
        "                if newpos in queue:\n",
        "                    queue.remove(newpos)\n",
        "                smallq.append(newpos)\n",
        "                pred[newpos] = current\n",
        "\n",
        "        queue = smallq+queue\n",
        "\n",
        "        # traversal ends when the target is met\n",
        "        if current == end:\n",
        "            break\n",
        "\n",
        "    if current != end:\n",
        "        return False\n",
        "\n",
        "    # create the path by backtracking\n",
        "    # trace the predecessor vertex from end to start\n",
        "    previous = end\n",
        "    path = []\n",
        "    while pred:\n",
        "        path.insert(0, previous)\n",
        "        if previous == start:\n",
        "            break\n",
        "        previous = pred[previous]\n",
        "\n",
        "    return path\n"
      ]
    },
    {
      "cell_type": "code",
      "execution_count": 10,
      "metadata": {
        "id": "VTdbsxvEHunF"
      },
      "outputs": [],
      "source": [
        "start_vertex = (N, M, 0, 0, 1)\n",
        "end_vertex = (0, 0, N, M, 2)"
      ]
    },
    {
      "cell_type": "code",
      "execution_count": 11,
      "metadata": {
        "colab": {
          "base_uri": "https://localhost:8080/"
        },
        "id": "fgEYSZL4HunG",
        "outputId": "7879d3b5-12f1-4661-e4da-2faa5dd9d08d"
      },
      "outputs": [
        {
          "output_type": "stream",
          "name": "stdout",
          "text": [
            "length of the path DFS has found: 11\n",
            "number of vertices DFS has traveled: 12\n"
          ]
        }
      ],
      "source": [
        "###########################################\n",
        "###### no need to change any thing ########\n",
        "###########################################\n",
        "def dfs_result(G, start_vertex, end_vertex):\n",
        "\n",
        "    dfs_path = run_dfs(G, start_vertex, end_vertex)\n",
        "\n",
        "    num_of_visited_dfs = 0\n",
        "    num_of_visited_dfs = len([i for i in G.get_visited() if G.get_visited()[i] == 1])\n",
        "\n",
        "    G.clear(whole=True)\n",
        "\n",
        "    if not dfs_path:\n",
        "        print(\"end vertex not reachable\")\n",
        "    else:\n",
        "        print(f'length of the path DFS has found:', len(dfs_path) - 1)\n",
        "\n",
        "    print(f'number of vertices DFS has traveled:', num_of_visited_dfs)\n",
        "\n",
        "\n",
        "dfs_result(G, start_vertex, end_vertex)\n"
      ]
    },
    {
      "cell_type": "markdown",
      "metadata": {
        "id": "4WyuXcP7HunG"
      },
      "source": [
        "### A* Algorithm"
      ]
    },
    {
      "cell_type": "markdown",
      "metadata": {
        "id": "Y6o--ea7HunG"
      },
      "source": [
        "Next we use the A* algorithm. To use A* we need to propose a heuristic function. Propose a non-trivial heuristic function and argue that it is admissible. (10 Points)\n",
        "\n"
      ]
    },
    {
      "cell_type": "markdown",
      "metadata": {
        "id": "au6TD8aZHunG"
      },
      "source": [
        "<font color='cyan'>\n",
        "\n",
        "$$\n",
        " h((s1, p1, s2, p2, e)) = ?\n",
        "$$\n",
        "\n",
        "Your explanation.\n",
        "\n",
        "</font>\n",
        "\n"
      ]
    },
    {
      "cell_type": "markdown",
      "metadata": {
        "id": "ujYKqOGnt0Ea"
      },
      "source": [
        "If you wish to take someone from the first floor to the second floor, for instance, you can only move a maximum of two people at a time, and you need at least one person to return after the elevator moves to the next level, except for the last move (since elevator doesn't move without a person in it). So, you can only move a maximum of one person at a time (except the last one). Its meaning is s1+p1-1.\n",
        "Yet, you receive at least one additional person if the elevator is on the second floor. adding e-1.\n",
        "Because of what I've said, it's always less than the true distance making it to be admissible.\n",
        "</br>\n",
        "also notice that between two adjacent nodes, the difference of h is atmost 1."
      ]
    },
    {
      "cell_type": "code",
      "execution_count": 12,
      "metadata": {
        "id": "pyXraG51HunG"
      },
      "outputs": [],
      "source": [
        "def heuristic_func(input):\n",
        "    s1, p1, s2, p2, e = input\n",
        "\n",
        "######################################################\n",
        "###### implement the func you proposed(5 Points) #####\n",
        "    h = s1+p1+e-2\n",
        "######################################################\n",
        "\n",
        "    return h\n"
      ]
    },
    {
      "cell_type": "markdown",
      "metadata": {
        "id": "lYo4kvD6HunG"
      },
      "source": [
        "Like DFS if end is not reachable from start A* must return false and otherwise it must return the found path as a list of states."
      ]
    },
    {
      "cell_type": "code",
      "execution_count": 17,
      "metadata": {
        "id": "qbHWNGbbHunG"
      },
      "outputs": [],
      "source": [
        "#A* to find the path from start to end\n",
        "def run_a_star(G, start, end):\n",
        "    #######################################################\n",
        "    ######### implement A* algorithm (30 Points) ##########\n",
        "    from heapq import heappop,heappush\n",
        "    op = [(heuristic_func(start),start)]\n",
        "    done = set([])\n",
        "    costs = {start:0}\n",
        "    succ= {start:None}\n",
        "    current = None\n",
        "    while op:\n",
        "      f,current = heappop(op)\n",
        "      if current[0]==0 and current[1]==0 and current[4]==2:\n",
        "        break\n",
        "      if current in done:\n",
        "         continue\n",
        "      done.add(current)\n",
        "      G.visit(current)\n",
        "      for successor in G.neighbour(current):\n",
        "        if successor in done:\n",
        "          continue\n",
        "        ncost = costs[current] + 1\n",
        "        if successor not in costs or ncost < costs[successor]:\n",
        "          succ[successor] = current\n",
        "          costs[successor] = ncost\n",
        "          nf = ncost + heuristic_func(successor)\n",
        "          heappush(op,(nf,successor))\n",
        "    p=current\n",
        "    path = []\n",
        "    if p not in succ:\n",
        "      return False\n",
        "    while p is not None:\n",
        "        path.insert(0, p)\n",
        "        if p == start:\n",
        "            break\n",
        "        p = succ[p]\n",
        "\n",
        "    \n",
        "    #######################################################\n",
        "    return path\n"
      ]
    },
    {
      "cell_type": "code",
      "source": [
        "# TODO:  if using heapq is not okay\n",
        "# def run_a_star(G, start, end):\n",
        "    # #######################################################\n",
        "    # ######### implement A* algorithm (30 Points) ##########\n",
        "    # op = set([start])\n",
        "    # done = set([])\n",
        "    # costs = {start:0}\n",
        "    # succ= {start:None}\n",
        "    # current = None\n",
        "    # while len(op)>0:\n",
        "    #   current=None\n",
        "    #   for v in op:\n",
        "    #      if current==None or costs[v] + heuristic_func(v) < costs[current] + heuristic_func(v):\n",
        "    #         current=v\n",
        "    #   if current == None:\n",
        "    #      return False\n",
        "    #   if current[0]==0 and current[1]==0 and current[4]==2:\n",
        "    #     break\n",
        "    #   # if current in done:\n",
        "    #   #   continue\n",
        "    #   # done.add(current)\n",
        "    #   G.visit(current)\n",
        "    #   for successor in G.neighbour(current):\n",
        "    #     # if successor in done:\n",
        "    #     #   continue\n",
        "    #     if successor not in op and successor not in done:\n",
        "    #        op.add(successor)\n",
        "    #        succ[successor] = current\n",
        "    #        costs[successor] = costs[current] + 1\n",
        "    #     else:\n",
        "    #         if costs[successor] > costs[current] + 1:\n",
        "    #            costs[successor] = costs[current] + 1\n",
        "    #            succ[successor] = current\n",
        "    #            if successor in done:\n",
        "    #               done.remove(successor)\n",
        "    #               op.add(successor)\n",
        "    #   op.remove(current)\n",
        "    #   done.add(current)\n",
        "    # p=current\n",
        "    # path = []\n",
        "    # if p not in succ:\n",
        "    #   return False\n",
        "    # while p is not None:\n",
        "    #     path.insert(0, p)\n",
        "    #     if p == start:\n",
        "    #         break\n",
        "    #     p = succ[p]\n",
        "\n",
        "    # print(path)\n",
        "    # #######################################################\n",
        "    # return path"
      ],
      "metadata": {
        "id": "eRFaqHl70CYu"
      },
      "execution_count": null,
      "outputs": []
    },
    {
      "cell_type": "code",
      "execution_count": 18,
      "metadata": {
        "colab": {
          "base_uri": "https://localhost:8080/"
        },
        "id": "cPCnnA4YHunG",
        "outputId": "ac720001-890e-4822-94eb-7a8a446da895"
      },
      "outputs": [
        {
          "output_type": "stream",
          "name": "stdout",
          "text": [
            "length of the path A* has found: 11\n",
            "number of vertices A* has traveled: 13\n"
          ]
        }
      ],
      "source": [
        "###########################################\n",
        "###### no need to change any thing ########\n",
        "###########################################\n",
        "def a_star_result(G, start_vertex, end_vertex):\n",
        "\n",
        "    a_star_path = run_a_star(G, start_vertex, end_vertex)\n",
        "\n",
        "    num_of_visited_a_star = 0\n",
        "    num_of_visited_a_star = len([i for i in G.get_visited() if G.get_visited()[i] == 1])\n",
        "\n",
        "    G.clear(whole=True)\n",
        "\n",
        "    if not a_star_path:\n",
        "        print(\"end vertex not reachable\")\n",
        "    else:\n",
        "        print(f'length of the path A* has found:', len(a_star_path) - 1)\n",
        "\n",
        "    print(f'number of vertices A* has traveled:', num_of_visited_a_star)\n",
        "\n",
        "\n",
        "a_star_result(G, start_vertex, end_vertex)\n"
      ]
    },
    {
      "cell_type": "markdown",
      "metadata": {
        "id": "CDjtkYpMHunH"
      },
      "source": [
        "## Visualization"
      ]
    },
    {
      "cell_type": "markdown",
      "metadata": {
        "id": "qPzZQQCeHunH"
      },
      "source": [
        "The below code creates a gif named \"result.gif\" which shows the result found by A* algorithm."
      ]
    },
    {
      "cell_type": "code",
      "execution_count": 19,
      "metadata": {
        "colab": {
          "base_uri": "https://localhost:8080/",
          "height": 306
        },
        "id": "8zw70X92HunH",
        "outputId": "ab7bf91b-0cc1-44e6-b2c4-4b0e9b93ef97"
      },
      "outputs": [
        {
          "output_type": "display_data",
          "data": {
            "text/plain": [
              "<Figure size 648x360 with 1 Axes>"
            ],
            "image/png": "[encoded data removed]"
          },
          "metadata": {}
        }
      ],
      "source": [
        "import drawer\n",
        "drawer.create_gif(run_a_star(G, start_vertex, end_vertex))\n",
        "G.clear(whole=True)"
      ]
    },
    {
      "cell_type": "markdown",
      "metadata": {
        "id": "3J2M7x5kHunH"
      },
      "source": [
        "## Results"
      ]
    },
    {
      "cell_type": "markdown",
      "metadata": {
        "id": "tcB9HUOgHunH"
      },
      "source": [
        "Now results of DFS and A* could be compared. Run the code below and explain the result. (10 Points)"
      ]
    },
    {
      "cell_type": "code",
      "execution_count": 24,
      "metadata": {
        "colab": {
          "base_uri": "https://localhost:8080/"
        },
        "id": "Nz8wsomPHunH",
        "outputId": "5710327b-caef-4515-9991-91b3449c8797"
      },
      "outputs": [
        {
          "output_type": "stream",
          "name": "stdout",
          "text": [
            "length of the path DFS has found: 8199\n",
            "number of vertices DFS has traveled: 8609\n",
            "length of the path A* has found: 477\n",
            "number of vertices A* has traveled: 8479\n"
          ]
        }
      ],
      "source": [
        "N = 100\n",
        "M = 140\n",
        "\n",
        "start_vertex = (N, M, 0, 0, 1)\n",
        "end_vertex = (0, 0, N, M, 2)\n",
        "\n",
        "G = build_graph(N, M)\n",
        "\n",
        "dfs_result(G, start_vertex, end_vertex)\n",
        "a_star_result(G, start_vertex, end_vertex)\n"
      ]
    },
    {
      "cell_type": "markdown",
      "metadata": {
        "id": "v3QOo6_QHunH"
      },
      "source": [
        "<font color='cyan'>\n",
        "\n",
        "Your explanation.\n",
        "</br>\n",
        "DFS explores the search space exhaustively, searching down a single path until it reaches a goal or a dead end. So it can find a suboptimal solution [As there is more than a unique way of reaching the goal here]. (Notice here the weights are 1 so dfs is not that dumb).\n",
        "\n",
        "the quality of the solution found by A* depends heavily on the quality of the heuristic function used. If the heuristic function is not well-suited for the problem, A* might explore many nodes and lead to high computational cost, even though it will still guarantee to find the optimal path. Also, the number of visited nodes depends on the branching factor of the graph, which can impact the efficiency of the algorithm.\n",
        "here the branching factor is around 4. As the heuristic function we choosed can be really close to each other for different nodes, it is somewhat reasonable to visit such large number of vertices (200 less than all).\n",
        "\n",
        "\n",
        "</font>"
      ]
    },
    {
      "cell_type": "markdown",
      "metadata": {
        "id": "QnWXsGxRHunH"
      },
      "source": [
        "Cell below runs some tests on dfs and stores the results in \"student_number.txt\". Then run the cell and upload the result on Quera."
      ]
    },
    {
      "cell_type": "code",
      "execution_count": 21,
      "metadata": {
        "id": "3rq6zOn3HunH"
      },
      "outputs": [],
      "source": [
        "tests = [(100, 140), (200, 260), (600, 610), (800, 1000)]\n",
        "\n",
        "f = open(student_number + \".txt\", \"w\")\n",
        "\n",
        "\n",
        "def run_tests():\n",
        "    for test in tests:\n",
        "        N, M = test\n",
        "        G = graph()\n",
        "        start_vertex = (N, M, 0, 0, 1)\n",
        "        end_vertex = (0, 0, N, M, 2)\n",
        "        G = build_graph(N, M)\n",
        "        f.write(str(run_a_star(G, start_vertex, end_vertex)))\n",
        "        G.clear(whole=True)\n",
        "\n",
        "    f.close()\n",
        "\n",
        "\n",
        "run_tests()\n"
      ]
    }
  ],
  "metadata": {
    "accelerator": "GPU",
    "colab": {
      "provenance": []
    },
    "gpuClass": "standard",
    "kernelspec": {
      "display_name": "Python 3",
      "language": "python",
      "name": "python3"
    },
    "language_info": {
      "codemirror_mode": {
        "name": "ipython",
        "version": 3
      },
      "file_extension": ".py",
      "mimetype": "text/x-python",
      "name": "python",
      "nbconvert_exporter": "python",
      "pygments_lexer": "ipython3",
      "version": "3.10.5"
    },
    "vscode": {
      "interpreter": {
        "hash": "f72c34bb2e2aa76acaec51e5a386e2497fab8a5e682a38cfc0469e5a4ec35b0f"
      }
    }
  },
  "nbformat": 4,
  "nbformat_minor": 0
}