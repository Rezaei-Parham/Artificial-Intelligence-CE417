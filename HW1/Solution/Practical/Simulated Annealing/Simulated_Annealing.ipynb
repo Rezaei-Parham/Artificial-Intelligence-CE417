{
  "cells": [
    {
      "cell_type": "markdown",
      "metadata": {
        "id": "taczd_0Vx4_b"
      },
      "source": [
        "<img src='http://www-scf.usc.edu/~ghasemig/images/sharif.png' alt=\"SUT logo\" width=300 height=300 align=left class=\"saturate\" >\n",
        "\n",
        "<br>\n",
        "<font>\n",
        "<div dir=ltr align=center>\n",
        "<font color=0F5298 size=7>\n",
        "    Artificial Intelligence <br>\n",
        "<font color=2565AE size=5>\n",
        "    Computer Engineering Department <br>\n",
        "    Spring 2023<br>\n",
        "<font color=3C99D size=5>\n",
        "    Practical Assignment 1 - Search <br>\n",
        "<font color=696880 size=4>\n",
        "    Mohammad Mahdi Abootorabi and Roozbeh Pirayadi \n",
        "\n",
        "____"
      ]
    },
    {
      "cell_type": "markdown",
      "metadata": {
        "id": "j12mgM5Qx4_c"
      },
      "source": [
        "# Personal Data"
      ]
    },
    {
      "cell_type": "code",
      "execution_count": 2,
      "metadata": {
        "collectable": true,
        "execution": {
          "iopub.execute_input": "2021-10-01T16:01:36.762477Z",
          "iopub.status.busy": "2021-10-01T16:01:36.762155Z",
          "iopub.status.idle": "2021-10-01T16:01:36.764025Z",
          "shell.execute_reply": "2021-10-01T16:01:36.763754Z"
        },
        "id": "OkJWS3eux4_d"
      },
      "outputs": [],
      "source": [
        "# Set your student number\n",
        "student_number = '400108547'\n",
        "Name = 'Parham'\n",
        "Last_Name = 'Rezaei'"
      ]
    },
    {
      "cell_type": "markdown",
      "metadata": {
        "id": "UkuMuQy3x4_d"
      },
      "source": [
        "# Rules\n",
        "- Make sure that all of your cells can be run perfectly. \n",
        "- You are not allowed to add or remove cells. You **must use the provided space to write your code**. If you don't follow this rule, **your Practical Assignment won't be graded**. \n",
        "- There is one cell for your custom functions (if you need any) at the beginning of each question. Please note that this jupyter file might be broken down into 3 or 4 jupyter notebooks for easier grading, so you **must write your custom functions in the correct cell**."
      ]
    },
    {
      "cell_type": "markdown",
      "metadata": {
        "id": "rv-sZFP2x4_d"
      },
      "source": [
        "# Q2: Simulated Annealing (100 Points)"
      ]
    },
    {
      "cell_type": "markdown",
      "metadata": {
        "id": "W5oLjo20x4_d"
      },
      "source": [
        "<font size=4>\n",
        "Author: Mohammad Mahdi Abootorabi\n",
        "\t\t\t<br/>\n",
        "                <font color=red>\n",
        "Please run all the cells.\n",
        "     </font>\n",
        "</font>\n",
        "                <br/>\n",
        "    </div>"
      ]
    },
    {
      "cell_type": "markdown",
      "metadata": {
        "id": "ZzIgH1Uox4_e"
      },
      "source": [
        "## Libraries"
      ]
    },
    {
      "cell_type": "code",
      "execution_count": 3,
      "metadata": {
        "id": "x4gTIlCVx4_e"
      },
      "outputs": [],
      "source": [
        "import numpy as np\n",
        "import random\n",
        "import matplotlib.pyplot as plt\n",
        "from tqdm import tqdm"
      ]
    },
    {
      "cell_type": "code",
      "execution_count": 4,
      "metadata": {
        "collectable": true,
        "id": "CGZP8wGVx4_e"
      },
      "outputs": [],
      "source": [
        "# place for your custom functions here"
      ]
    },
    {
      "cell_type": "markdown",
      "metadata": {
        "id": "PWWMe-QHx4_e"
      },
      "source": [
        "## Knapsack Problem"
      ]
    },
    {
      "cell_type": "markdown",
      "metadata": {
        "id": "Z6O2SF3Jx4_e"
      },
      "source": [
        "In this problem, we will tackle the knapsack problem with using simulated annealing algorithm. You can find more detail about this problem [here](https://www.geeksforgeeks.org/0-1-knapsack-problem-dp-10/).\n"
      ]
    },
    {
      "cell_type": "markdown",
      "metadata": {
        "id": "3a3j2C5ix4_e"
      },
      "source": [
        "To use local search algorithms, we must define our state-space. As the problem is about choosing a object or not, we define each state as a vector $S$ of size $n$ ( $n$ is total number of objects). \n",
        "\n",
        "$$\n",
        "S_i=   \\left\\{\n",
        "\\begin{array}{ll}\n",
        "      1 & \\text{object $i$ is selected} \\\\\n",
        "      0 & \\text{object $i$ is not selected}\n",
        "\\end{array} \n",
        "\\right.\n",
        "$$"
      ]
    },
    {
      "cell_type": "markdown",
      "metadata": {
        "id": "n-AJ-g0Rx4_e"
      },
      "source": [
        "Write a function that generates a random state. i.e., it must return a boolean vector of size n. p is probablity of selecting an object. For example, if p=0.5, then the function must return a vector of size n in which each element is selected with 50% probability."
      ]
    },
    {
      "cell_type": "code",
      "execution_count": 5,
      "metadata": {
        "id": "sQgACoNax4_f"
      },
      "outputs": [],
      "source": [
        "def random_state_generator(n, p=0.5):\n",
        "    ##################################################################\n",
        "    # (5 Points)                                                      #\n",
        "    # This function get input n (length) and probability of True for #\n",
        "    # each element of the vector (p) and generates and returns a     #\n",
        "    # random boolean vector (list) with length n.                    #\n",
        "    ##################################################################\n",
        "    v = np.random.choice([True,False],n, [p, 1-p])\n",
        "    # YOUR CODE #\n",
        "    return v"
      ]
    },
    {
      "cell_type": "markdown",
      "metadata": {
        "id": "LudbvSAIx4_f"
      },
      "source": [
        "## Value Function\n",
        "\n",
        "Our Proposed Value function is:\n",
        "\n",
        "$$\n",
        "f(S) =   \\left\\{\n",
        "\\begin{array}{ll}\n",
        "      \\sum_{i=1}^{n} s_{i} v_{i} & \\text{if  $\\sum_{i=1}^{n} s_{i} w_{i} \\leq W $ } \\\\\n",
        "      0 & \\text{Otherwise}\n",
        "\\end{array} \n",
        "\\right.\n",
        "$$\n",
        "\n",
        "Note that: \n",
        "\n",
        "n = length of items\n",
        "\n",
        "$s_i$ = ith item of state S\n",
        "\n",
        "$v_i$ = ith value \n",
        "\n",
        "$w_i$ = ith weight \n",
        "\n",
        "$W$ = knapsack weight \n",
        "\n"
      ]
    },
    {
      "cell_type": "code",
      "execution_count": 6,
      "metadata": {
        "collectable": true,
        "id": "fIS901ZLx4_f"
      },
      "outputs": [],
      "source": [
        "def value_function(W, weights, values, state):\n",
        "    ##################################################################\n",
        "    # (10 Points)                                                    #\n",
        "    # This function gets a state and values and weights and W,       #\n",
        "    # and calculates the value of this state                         #\n",
        "    ##################################################################\n",
        "    if np.dot(state,weights) <= W:\n",
        "      return np.dot(state,values)\n",
        "    return 0\n",
        "    # YOUR CODE #"
      ]
    },
    {
      "cell_type": "markdown",
      "metadata": {
        "id": "TEYr9wCvx4_f"
      },
      "source": [
        "## Acceptance probability function\n",
        "\n",
        "the acceptance probability function calculates the probability of accepting a worse solution. It is defined as:\n",
        "$$\n",
        "P = e^{- \\frac{(f(S_{old}) - f(S_{new}))^{1.5}}{T} }\n",
        "$$"
      ]
    },
    {
      "cell_type": "code",
      "execution_count": 7,
      "metadata": {
        "id": "5nVEb1Ttx4_f"
      },
      "outputs": [],
      "source": [
        "def prob_accept(state_value, next_state_value, temperature):\n",
        "    ##################################################################\n",
        "    # (15 Points)                                                    #\n",
        "    # This function gets a state value, a next state value,          #\n",
        "    # and the temperature and calculates the probability             #\n",
        "    # of accepting the next state based on the formula               #\n",
        "    # given in the assignment                                        #\n",
        "    # NOTE: Feel free to change the formula if you want to.          #\n",
        "    ##################################################################\n",
        "    return np.exp(-np.power(state_value-next_state_value,1.5)/temperature)\n",
        "    # YOUR CODE #"
      ]
    },
    {
      "cell_type": "markdown",
      "metadata": {
        "id": "xGNJdxtOx4_f"
      },
      "source": [
        "## Neighbor state generator\n",
        "\n",
        "The neighbor state generator generates a neighbor state of the current state. Our neighbor state generator is defined as:\n",
        "\n",
        "1- Select a random index $i$ from $[1, n]$.\n",
        "\n",
        "2- Flip the value of $S_i$.\n",
        "\n",
        "3- With probablity of 'prob' flip the value of another random index $j$ from $[1, n]$.\n",
        "\n",
        "4- If this state is feasible(the sum of weights of selected objects is less than or equal to the knapsack weight), return this state. Otherwise, Continue from step 1.\n"
      ]
    },
    {
      "cell_type": "code",
      "execution_count": 8,
      "metadata": {
        "id": "h2Xe07TJx4_f"
      },
      "outputs": [],
      "source": [
        "def neighbor_state_generator(state, W, weights, values, prob=0.5):\n",
        "    ############################################################################\n",
        "    # (15 Points)                                                              #\n",
        "    # This function gets a state, W, weights, values, and probability of       #\n",
        "    # flipping the second bit and generates a neighbor state                   #\n",
        "    # NOTE: You can use the value_function to check if the neighbor state is   #\n",
        "    # feasible or not.                                                         #\n",
        "    ############################################################################\n",
        "    n = len(state)\n",
        "    feasible = False\n",
        "    statecopy = state.copy()\n",
        "    while not feasible:\n",
        "      i = np.random.choice(range(0,n),1) # or 0,n\n",
        "      statecopy[i] = 1-statecopy[i]\n",
        "      j = np.random.choice(range(0,n),1)\n",
        "      if np.random.binomial(1,prob)==1:\n",
        "        statecopy[j]= 1- statecopy[j]\n",
        "      if value_function(W, weights, values, statecopy) != 0:\n",
        "        feasible = True\n",
        "        return statecopy\n",
        "    # YOUR CODE #"
      ]
    },
    {
      "cell_type": "markdown",
      "metadata": {
        "id": "vOAhDVtex4_g"
      },
      "source": [
        "## Main function\n",
        "\n",
        "Now Implement the main 'anneal' function that performs the algorithm. Try to experiment with different initial T and $alpha$ values to get the best result. Also, your function must implement these two stop criteria:\n",
        "\n",
        "- If the number of iterations exceeded 'stopping_iter', stop.\n",
        "- If the temperature drops below 'stopping_temprature', stop."
      ]
    },
    {
      "cell_type": "code",
      "execution_count": 9,
      "metadata": {
        "id": "p38fEMF3x4_g"
      },
      "outputs": [],
      "source": [
        "def simulated_annealing(W, weights, values, stopping_temperature=1e-8, stopping_iter=2000, alpha=0.99, T=50, neighbour_prob=0.5, initial_state_true_prob=0.5):\n",
        "    ###########################################################################\n",
        "    # (30 Points)                                                             #\n",
        "    # Inputs:                                                                 #\n",
        "    # - W: maximum weight                                                     #\n",
        "    # - weights: list of weights                                              #\n",
        "    # - values: list of values                                                #\n",
        "    # - stopping_temperature: stopping temperature                            #\n",
        "    # - stopping_iter: stopping iteration                                     #\n",
        "    # - alpha: decay rate                                                     #\n",
        "    # - T: initial temperature                                                #\n",
        "    # - neighbour_prob: probability of flipping the second bit in neighbor    #\n",
        "    #                   state generator                                       #\n",
        "    # - initial_state_true_prob: probability of True for each element of the  #\n",
        "    #                           vector in random state generator              #\n",
        "    #                                                                         #\n",
        "    # Implement the simulated annealing algorithm in the following way:       #\n",
        "    # - Generate the initial state and set the best state to the initial      #\n",
        "    #   state and the best value to the value of the initial state            #\n",
        "    # - For each iteration:                                                   #\n",
        "    # -   Generate the neighbor state                                         #\n",
        "    # -   Calculate the value of the current state and the neighbor state     #\n",
        "    # -   If the value of the neighbor state is greater than the value of     #\n",
        "    #       the current state:                                                #\n",
        "    #       set the current state to the neighbor state                       #\n",
        "    # -   Else with use of prob_accept function set the current state to the  #\n",
        "    #      neighbor state with probability of accepting the next state        #\n",
        "    # -   Decrease the temperature by its decay rate (multiply in alpha)      #                          \n",
        "    # -   Update best values and best solutions if it is necessary            #\n",
        "    # -   Append the current value and current solution to the records        #\n",
        "    # - Return the best value, the best solution, and the records             #\n",
        "    ###########################################################################\n",
        "    \n",
        "    best_value = float('-inf')\n",
        "    best_solution = None\n",
        "    records = []\n",
        "\n",
        "    # YOUR CODE #\n",
        "    state=random_state_generator(len(weights),initial_state_true_prob)\n",
        "    best_solution=state\n",
        "    best_value = value_function(W,weights,values,state)\n",
        "    for _ in range(stopping_iter):\n",
        "      if T<stopping_temperature:\n",
        "        breakpoint\n",
        "      ns = neighbor_state_generator(state,W,weights,values,neighbour_prob)\n",
        "      cur_val = value_function(W,weights,values,state)\n",
        "      neigh_val = value_function(W,weights,values,ns)\n",
        "      if neigh_val>cur_val:\n",
        "        state = ns\n",
        "      else:\n",
        "        p = prob_accept(cur_val,neigh_val,T)\n",
        "        if np.random.binomial(1,p) == 1:\n",
        "          state=ns\n",
        "      value = value_function(W,weights,values,state)\n",
        "      if value>best_value:\n",
        "        best_value=value\n",
        "        best_solution=state\n",
        "      records.append((state,value))\n",
        "      T = T * alpha\n",
        "\n",
        "    return best_value, best_solution, records"
      ]
    },
    {
      "cell_type": "markdown",
      "metadata": {
        "id": "9nICbQNrx4_g"
      },
      "source": [
        "Now lets run it one a sample problem. You can change the parameters of the function to get better results."
      ]
    },
    {
      "cell_type": "code",
      "execution_count": 14,
      "metadata": {
        "colab": {
          "base_uri": "https://localhost:8080/"
        },
        "id": "EZAoH3Mtx4_g",
        "outputId": "02473398-a851-4c98-d8a8-a4db8de3ea9e"
      },
      "outputs": [
        {
          "output_type": "stream",
          "name": "stdout",
          "text": [
            "best value: 2792\n",
            "weight used: 1000\n"
          ]
        }
      ],
      "source": [
        "weights = [random.randint(0, 50) for _ in range(100)]\n",
        "values = [random.randint(0, 70) for _ in range(100)]\n",
        "W = 1000\n",
        "\n",
        "best_value , best_sol, records = simulated_annealing(W, weights, values, alpha=0.99, neighbour_prob=0.2, initial_state_true_prob=0.2)\n",
        "print(f'best value: {best_value}')\n",
        "print(f'weight used: {np.dot(best_sol, weights)}')\n",
        "\n",
        "# Note that at least you must reach 2400 values used in almost runs if your implementation is good enough."
      ]
    },
    {
      "cell_type": "code",
      "execution_count": 15,
      "metadata": {
        "colab": {
          "base_uri": "https://localhost:8080/",
          "height": 283
        },
        "id": "S1bDc9Bdx4_g",
        "outputId": "19385e32-081a-425b-90d1-1cd3b4c18aeb"
      },
      "outputs": [
        {
          "output_type": "execute_result",
          "data": {
            "text/plain": [
              "[<matplotlib.lines.Line2D at 0x7fcd18476a00>]"
            ]
          },
          "metadata": {},
          "execution_count": 15
        },
        {
          "output_type": "display_data",
          "data": {
            "text/plain": [
              "<Figure size 432x288 with 1 Axes>"
            ],
            "image/png": "[encoded data removed]"
          },
          "metadata": {
            "needs_background": "light"
          }
        }
      ],
      "source": [
        "########################################################\n",
        "# (10 Points)                                          #\n",
        "# Plot the value of states changes over iterations.    #\n",
        "########################################################\n",
        "vals = [i[1] for i in records]\n",
        "plt.plot(range(len(vals)),vals)\n",
        "# YOUR CODE #"
      ]
    },
    {
      "cell_type": "markdown",
      "metadata": {
        "id": "P6F3CQLTx4_g"
      },
      "source": [
        "For better evaluation now just test your algorithm on more examples and see the average value of the best solutions."
      ]
    },
    {
      "cell_type": "code",
      "execution_count": 12,
      "metadata": {
        "id": "YHfqUg7tx4_g"
      },
      "outputs": [],
      "source": [
        "def test_algorithm(number_of_tests):\n",
        "    sum_best_values = 0\n",
        "    for i in range(number_of_tests):\n",
        "        weights = [random.randint(1, 50) for _ in range(100)]\n",
        "        values = [random.randint(0, 75) for _ in range(100)]\n",
        "        W = 1000\n",
        "        best_value, best_solution, _ = simulated_annealing(W, weights, values, alpha=0.99, neighbour_prob=0.2, initial_state_true_prob=0.2)\n",
        "        print(f'best value sample {i + 1}: {best_value}')\n",
        "        print(f'weight used sample {i + 1}: {np.dot(best_solution, weights)}')\n",
        "        sum_best_values += best_value\n",
        "    return sum_best_values / number_of_tests\n"
      ]
    },
    {
      "cell_type": "code",
      "execution_count": 13,
      "metadata": {
        "colab": {
          "base_uri": "https://localhost:8080/"
        },
        "id": "mUUV33o0x4_g",
        "outputId": "5ab283a6-fb8f-45da-9cbc-16a8ee87703a"
      },
      "outputs": [
        {
          "output_type": "stream",
          "name": "stdout",
          "text": [
            "best value sample 1: 2622\n",
            "weight used sample 1: 990\n",
            "best value sample 2: 2414\n",
            "weight used sample 2: 998\n",
            "best value sample 3: 2478\n",
            "weight used sample 3: 995\n",
            "best value sample 4: 2609\n",
            "weight used sample 4: 997\n",
            "best value sample 5: 2665\n",
            "weight used sample 5: 1000\n",
            "best value sample 6: 2653\n",
            "weight used sample 6: 991\n",
            "best value sample 7: 2526\n",
            "weight used sample 7: 998\n",
            "best value sample 8: 2378\n",
            "weight used sample 8: 999\n",
            "best value sample 9: 2516\n",
            "weight used sample 9: 998\n",
            "best value sample 10: 2513\n",
            "weight used sample 10: 999\n",
            "best value sample 11: 2538\n",
            "weight used sample 11: 999\n",
            "best value sample 12: 2402\n",
            "weight used sample 12: 1000\n",
            "best value sample 13: 2720\n",
            "weight used sample 13: 1000\n",
            "best value sample 14: 2517\n",
            "weight used sample 14: 998\n",
            "best value sample 15: 2786\n",
            "weight used sample 15: 998\n",
            "best value sample 16: 2648\n",
            "weight used sample 16: 999\n",
            "best value sample 17: 2409\n",
            "weight used sample 17: 1000\n",
            "best value sample 18: 2810\n",
            "weight used sample 18: 994\n",
            "best value sample 19: 2458\n",
            "weight used sample 19: 994\n",
            "best value sample 20: 2696\n",
            "weight used sample 20: 992\n",
            "Average of best values that algorithm reached is 2567.9\n"
          ]
        }
      ],
      "source": [
        "# (15 Points)\n",
        "# Reaching 2400 is good enough.\n",
        "\n",
        "print(f\"Average of best values that algorithm reached is {test_algorithm(20)}\")"
      ]
    }
  ],
  "metadata": {
    "kernelspec": {
      "display_name": "Python 3",
      "language": "python",
      "name": "python3"
    },
    "language_info": {
      "codemirror_mode": {
        "name": "ipython",
        "version": 3
      },
      "file_extension": ".py",
      "mimetype": "text/x-python",
      "name": "python",
      "nbconvert_exporter": "python",
      "pygments_lexer": "ipython3",
      "version": "3.11.1"
    },
    "vscode": {
      "interpreter": {
        "hash": "f72c34bb2e2aa76acaec51e5a386e2497fab8a5e682a38cfc0469e5a4ec35b0f"
      }
    },
    "colab": {
      "provenance": []
    }
  },
  "nbformat": 4,
  "nbformat_minor": 0
}